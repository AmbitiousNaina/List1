{
  "nbformat": 4,
  "nbformat_minor": 0,
  "metadata": {
    "colab": {
      "provenance": []
    },
    "kernelspec": {
      "name": "python3",
      "display_name": "Python 3"
    },
    "language_info": {
      "name": "python"
    }
  },
  "cells": [
    {
      "cell_type": "code",
      "execution_count": null,
      "metadata": {
        "colab": {
          "base_uri": "https://localhost:8080/"
        },
        "id": "jM0feKf1Pgg-",
        "outputId": "1dcd976c-a6ab-4a2f-b1e5-489a16c8df15"
      },
      "outputs": [
        {
          "output_type": "stream",
          "name": "stdout",
          "text": [
            "[1, 2, 9, 3]\n",
            "<class 'list'>\n"
          ]
        }
      ],
      "source": [
        "l = [1, 2, 9 , 3]\n",
        "print(l)\n",
        "print(type(l))"
      ]
    },
    {
      "cell_type": "code",
      "source": [
        "l = [1, 2, 9, 3,\"python\", 95.29]\n",
        "print(l)\n",
        "print(type(l))"
      ],
      "metadata": {
        "colab": {
          "base_uri": "https://localhost:8080/"
        },
        "id": "Pn5_NEGYRQmp",
        "outputId": "218605db-42dd-4bfa-9e20-1e0240c2ce5a"
      },
      "execution_count": null,
      "outputs": [
        {
          "output_type": "stream",
          "name": "stdout",
          "text": [
            "[1, 2, 9, 3, 'python', 95.29]\n",
            "<class 'list'>\n"
          ]
        }
      ]
    },
    {
      "cell_type": "code",
      "source": [
        "l1 = [1, 2, 9, 3,\"python\", 95.29,[100,200,300]]\n",
        "print(l1)\n",
        "print(type(l1))"
      ],
      "metadata": {
        "colab": {
          "base_uri": "https://localhost:8080/"
        },
        "id": "PStuZhACR3ma",
        "outputId": "fcb41817-805b-4b86-f21b-1d371f7916a4"
      },
      "execution_count": null,
      "outputs": [
        {
          "output_type": "stream",
          "name": "stdout",
          "text": [
            "[1, 2, 9, 3, 'python', 95.29, [100, 200, 300]]\n",
            "<class 'list'>\n"
          ]
        }
      ]
    },
    {
      "cell_type": "code",
      "source": [
        "L = []\n",
        "print(L)\n",
        "print(type(L))"
      ],
      "metadata": {
        "colab": {
          "base_uri": "https://localhost:8080/"
        },
        "id": "ltNFMXjASauz",
        "outputId": "c8f84976-aac8-45f0-c897-ad1370947049"
      },
      "execution_count": null,
      "outputs": [
        {
          "output_type": "stream",
          "name": "stdout",
          "text": [
            "[]\n",
            "<class 'list'>\n"
          ]
        }
      ]
    },
    {
      "cell_type": "code",
      "source": [
        "L1=list()\n",
        "print(L1)\n",
        "print(type(L1))"
      ],
      "metadata": {
        "colab": {
          "base_uri": "https://localhost:8080/"
        },
        "id": "JLIXBO5BStjn",
        "outputId": "5348d866-3928-47b3-db37-f61eb043b8c1"
      },
      "execution_count": null,
      "outputs": [
        {
          "output_type": "stream",
          "name": "stdout",
          "text": [
            "[]\n",
            "<class 'list'>\n"
          ]
        }
      ]
    },
    {
      "cell_type": "code",
      "source": [
        "l = [1, 2, 9, 3,\"python\", 95.29,[100,200,300]]\n",
        "len(l)"
      ],
      "metadata": {
        "colab": {
          "base_uri": "https://localhost:8080/"
        },
        "id": "SB1Hq0KRUx9c",
        "outputId": "4b18692c-6505-4f9d-c125-a070674b83b4"
      },
      "execution_count": null,
      "outputs": [
        {
          "output_type": "execute_result",
          "data": {
            "text/plain": [
              "7"
            ]
          },
          "metadata": {},
          "execution_count": 11
        }
      ]
    },
    {
      "cell_type": "code",
      "source": [
        "l.count(3)"
      ],
      "metadata": {
        "colab": {
          "base_uri": "https://localhost:8080/"
        },
        "id": "nzAowOACU8wk",
        "outputId": "11364e93-3f70-4d3a-aee2-3d0509e44c2a"
      },
      "execution_count": null,
      "outputs": [
        {
          "output_type": "execute_result",
          "data": {
            "text/plain": [
              "1"
            ]
          },
          "metadata": {},
          "execution_count": 13
        }
      ]
    },
    {
      "cell_type": "code",
      "source": [
        "l[6][2]"
      ],
      "metadata": {
        "colab": {
          "base_uri": "https://localhost:8080/"
        },
        "id": "jB5XjrtAViIX",
        "outputId": "95951f85-cce2-4f38-8415-9032515ea5e8"
      },
      "execution_count": null,
      "outputs": [
        {
          "output_type": "execute_result",
          "data": {
            "text/plain": [
              "300"
            ]
          },
          "metadata": {},
          "execution_count": 16
        }
      ]
    },
    {
      "cell_type": "code",
      "source": [
        "a=l[6][0]\n",
        "print(type(a))"
      ],
      "metadata": {
        "colab": {
          "base_uri": "https://localhost:8080/"
        },
        "id": "LI9M15k9V8KA",
        "outputId": "d7f3c7a0-60fb-44ac-bc39-99d55292552a"
      },
      "execution_count": null,
      "outputs": [
        {
          "output_type": "stream",
          "name": "stdout",
          "text": [
            "<class 'int'>\n"
          ]
        }
      ]
    },
    {
      "cell_type": "code",
      "source": [
        "l[:4]\n",
        "\n"
      ],
      "metadata": {
        "colab": {
          "base_uri": "https://localhost:8080/"
        },
        "id": "lMF9hH_LWNEY",
        "outputId": "bffb10e2-d836-4930-8b32-f137da2fb3cd"
      },
      "execution_count": null,
      "outputs": [
        {
          "output_type": "execute_result",
          "data": {
            "text/plain": [
              "[1, 2, 9, 3]"
            ]
          },
          "metadata": {},
          "execution_count": 20
        }
      ]
    },
    {
      "cell_type": "code",
      "source": [
        "l.append(500)\n",
        "print(l)"
      ],
      "metadata": {
        "colab": {
          "base_uri": "https://localhost:8080/"
        },
        "id": "pavA7_mgWpLm",
        "outputId": "80af9cce-b539-4d0f-cf9d-43b15e2a84ce"
      },
      "execution_count": null,
      "outputs": [
        {
          "output_type": "stream",
          "name": "stdout",
          "text": [
            "[1, 2, 9, 3, 'python', 95.29, [100, 200, 300], 500, 500]\n"
          ]
        }
      ]
    },
    {
      "cell_type": "code",
      "source": [
        "l.insert(2,1000)\n",
        "print(l)\n"
      ],
      "metadata": {
        "colab": {
          "base_uri": "https://localhost:8080/"
        },
        "id": "M7nDStWeXFMi",
        "outputId": "20bc8527-7fa0-45f6-8d38-b881d4477ec6"
      },
      "execution_count": null,
      "outputs": [
        {
          "output_type": "stream",
          "name": "stdout",
          "text": [
            "[1000, 1, 1000, 2, 9, 3, 'python', 95.29, [100, 200, 300], 500, 500]\n"
          ]
        }
      ]
    },
    {
      "cell_type": "code",
      "source": [
        "l.extend(\"-1\")\n",
        "print(l)"
      ],
      "metadata": {
        "colab": {
          "base_uri": "https://localhost:8080/"
        },
        "id": "DmMvZyloYfGB",
        "outputId": "16f22461-fe1f-490f-85d6-c8f32e134afa"
      },
      "execution_count": null,
      "outputs": [
        {
          "output_type": "stream",
          "name": "stdout",
          "text": [
            "[1000, 1, 1000, 2, 9, 3, 'python', 95.29, [100, 200, 300], 500, 500, -1, '-', '1']\n"
          ]
        }
      ]
    },
    {
      "cell_type": "code",
      "source": [
        "l.extend((-1,-2))\n",
        "print(l)"
      ],
      "metadata": {
        "colab": {
          "base_uri": "https://localhost:8080/"
        },
        "id": "437U4dvhaMVu",
        "outputId": "5a607ed1-a566-46ae-f3dc-84f0c6d68141"
      },
      "execution_count": null,
      "outputs": [
        {
          "output_type": "stream",
          "name": "stdout",
          "text": [
            "[1000, 1, 1000, 2, 9, 3, 'python', 95.29, [100, 200, 300], 500, 500, -1, '-', '1', '-1', '-2', -1, -2, -1, -2]\n"
          ]
        }
      ]
    },
    {
      "cell_type": "code",
      "source": [
        "l.pop()\n",
        "print(l)"
      ],
      "metadata": {
        "colab": {
          "base_uri": "https://localhost:8080/"
        },
        "id": "FRDGYOMjaa52",
        "outputId": "858d5779-b22d-4f55-ea32-f04a323ae89e"
      },
      "execution_count": null,
      "outputs": [
        {
          "output_type": "stream",
          "name": "stdout",
          "text": [
            "[1000, 1, 1000, 2, 9, 3, 'python', 95.29, [100, 200, 300], 500, 500, -1, '-', '1', '-1', '-2', -1, -2, -1]\n"
          ]
        }
      ]
    },
    {
      "cell_type": "code",
      "source": [
        "l.remove(500)\n",
        "print(l)"
      ],
      "metadata": {
        "colab": {
          "base_uri": "https://localhost:8080/"
        },
        "id": "qvXuA8pearR6",
        "outputId": "7aed8191-69ca-4b69-a2e5-b444dbc32071"
      },
      "execution_count": null,
      "outputs": [
        {
          "output_type": "stream",
          "name": "stdout",
          "text": [
            "[1000, 1, 1000, 2, 9, 3, 'python', 95.29, [100, 200, 300], -1, '-', '1', '-1', '-2', -1, -2, -1]\n"
          ]
        }
      ]
    },
    {
      "cell_type": "code",
      "source": [
        "l.remove('z')\n",
        "print(l)"
      ],
      "metadata": {
        "colab": {
          "base_uri": "https://localhost:8080/",
          "height": 158
        },
        "id": "7H9vfepqbNkv",
        "outputId": "e2ebb62f-3230-4bb2-96c0-21fc1423a8a2"
      },
      "execution_count": null,
      "outputs": [
        {
          "output_type": "error",
          "ename": "ValueError",
          "evalue": "list.remove(x): x not in list",
          "traceback": [
            "\u001b[0;31m---------------------------------------------------------------------------\u001b[0m",
            "\u001b[0;31mValueError\u001b[0m                                Traceback (most recent call last)",
            "\u001b[0;32m<ipython-input-45-7a1c2a0dbba8>\u001b[0m in \u001b[0;36m<cell line: 1>\u001b[0;34m()\u001b[0m\n\u001b[0;32m----> 1\u001b[0;31m \u001b[0ml\u001b[0m\u001b[0;34m.\u001b[0m\u001b[0mremove\u001b[0m\u001b[0;34m(\u001b[0m\u001b[0;34m'z'\u001b[0m\u001b[0;34m)\u001b[0m\u001b[0;34m\u001b[0m\u001b[0;34m\u001b[0m\u001b[0m\n\u001b[0m\u001b[1;32m      2\u001b[0m \u001b[0mprint\u001b[0m\u001b[0;34m(\u001b[0m\u001b[0ml\u001b[0m\u001b[0;34m)\u001b[0m\u001b[0;34m\u001b[0m\u001b[0;34m\u001b[0m\u001b[0m\n",
            "\u001b[0;31mValueError\u001b[0m: list.remove(x): x not in list"
          ]
        }
      ]
    },
    {
      "cell_type": "code",
      "source": [
        "l5 = [100,-1, 2,3,4,100, 20]\n",
        "print(l5)\n",
        "\n",
        "print(l5.reverse())"
      ],
      "metadata": {
        "colab": {
          "base_uri": "https://localhost:8080/"
        },
        "id": "lBGnFgZyb33U",
        "outputId": "ea3c43ab-97d7-4279-c8c0-f8e9251f8089"
      },
      "execution_count": null,
      "outputs": [
        {
          "output_type": "stream",
          "name": "stdout",
          "text": [
            "[100, -1, 2, 3, 4, 100, 20]\n",
            "None\n"
          ]
        }
      ]
    },
    {
      "cell_type": "code",
      "source": [
        "l5.reverse()\n",
        "print(l5)"
      ],
      "metadata": {
        "colab": {
          "base_uri": "https://localhost:8080/"
        },
        "id": "wkVGl-GIcEsU",
        "outputId": "247d995c-cbcd-4d6e-f658-0d72af058c61"
      },
      "execution_count": null,
      "outputs": [
        {
          "output_type": "stream",
          "name": "stdout",
          "text": [
            "[100, -1, 2, 3, 4, 100, 20]\n"
          ]
        }
      ]
    },
    {
      "cell_type": "code",
      "source": [
        "print(l5)"
      ],
      "metadata": {
        "colab": {
          "base_uri": "https://localhost:8080/"
        },
        "id": "6C7oRc8vdzg-",
        "outputId": "27b0324e-1269-47b7-fb61-7e234fbf46ff"
      },
      "execution_count": null,
      "outputs": [
        {
          "output_type": "stream",
          "name": "stdout",
          "text": [
            "[20, 100, 4, 3, 2, -1, 100]\n"
          ]
        }
      ]
    },
    {
      "cell_type": "code",
      "source": [
        "a=list(reversed(l5))\n",
        "print(a)"
      ],
      "metadata": {
        "colab": {
          "base_uri": "https://localhost:8080/"
        },
        "id": "CvFiakbpd2mV",
        "outputId": "004f8906-6b6e-4ebc-bb94-5787453c8d12"
      },
      "execution_count": null,
      "outputs": [
        {
          "output_type": "stream",
          "name": "stdout",
          "text": [
            "[100, -1, 2, 3, 4, 100, 20]\n"
          ]
        }
      ]
    },
    {
      "cell_type": "code",
      "source": [
        "l5[::-1]\n",
        "print(l5)"
      ],
      "metadata": {
        "colab": {
          "base_uri": "https://localhost:8080/"
        },
        "id": "NwebkJ3We4aE",
        "outputId": "fcb6fdf5-dcef-4fec-ec4b-510a9e2edc01"
      },
      "execution_count": null,
      "outputs": [
        {
          "output_type": "stream",
          "name": "stdout",
          "text": [
            "[20, 100, 4, 3, 2, -1, 100]\n"
          ]
        }
      ]
    },
    {
      "cell_type": "markdown",
      "source": [
        "Other datatypes"
      ],
      "metadata": {
        "id": "Mp6_atuRf3MI"
      }
    },
    {
      "cell_type": "code",
      "source": [
        "l = [100, 30, -6, 300, 600]\n",
        "print(l)"
      ],
      "metadata": {
        "colab": {
          "base_uri": "https://localhost:8080/"
        },
        "id": "enm-jNU0f6xA",
        "outputId": "18c9925c-5973-4ea5-9419-3c6999c5755b"
      },
      "execution_count": null,
      "outputs": [
        {
          "output_type": "stream",
          "name": "stdout",
          "text": [
            "[100, 30, -6, 300, 600]\n"
          ]
        }
      ]
    },
    {
      "cell_type": "code",
      "source": [
        "l.sort()\n",
        "print(l)"
      ],
      "metadata": {
        "colab": {
          "base_uri": "https://localhost:8080/"
        },
        "id": "4tUVTbiog0ZC",
        "outputId": "797fab18-37ff-4c6a-d491-dcec8b435037"
      },
      "execution_count": null,
      "outputs": [
        {
          "output_type": "stream",
          "name": "stdout",
          "text": [
            "[-6, 30, 100, 300, 600]\n"
          ]
        }
      ]
    },
    {
      "cell_type": "code",
      "source": [
        "l.sort(reverse=True)\n",
        "print(l)"
      ],
      "metadata": {
        "colab": {
          "base_uri": "https://localhost:8080/"
        },
        "id": "h0QQzDALg_-F",
        "outputId": "c1d1313a-df2c-40eb-d7e8-e48d269bc494"
      },
      "execution_count": null,
      "outputs": [
        {
          "output_type": "stream",
          "name": "stdout",
          "text": [
            "[600, 300, 100, 30, -6]\n"
          ]
        }
      ]
    },
    {
      "cell_type": "code",
      "source": [
        "l1 = [200, 300, -300, 100, 600, 700]\n",
        "print(l1)"
      ],
      "metadata": {
        "colab": {
          "base_uri": "https://localhost:8080/"
        },
        "id": "HLFRGBrnhd2Q",
        "outputId": "a69282f8-8baa-4476-de64-709872e8e3e1"
      },
      "execution_count": null,
      "outputs": [
        {
          "output_type": "stream",
          "name": "stdout",
          "text": [
            "[200, 300, -300, 100, 600, 700]\n"
          ]
        }
      ]
    },
    {
      "cell_type": "code",
      "source": [
        "print(l+l1)"
      ],
      "metadata": {
        "colab": {
          "base_uri": "https://localhost:8080/"
        },
        "id": "b8s1uVKUhywz",
        "outputId": "c1660054-d992-47c3-f382-00a16ad11713"
      },
      "execution_count": null,
      "outputs": [
        {
          "output_type": "stream",
          "name": "stdout",
          "text": [
            "[600, 300, 100, 30, -6, 200, 300, -300, 100, 600, 700]\n"
          ]
        }
      ]
    },
    {
      "cell_type": "code",
      "source": [
        "print(l)"
      ],
      "metadata": {
        "colab": {
          "base_uri": "https://localhost:8080/"
        },
        "id": "ftzU82-siSAD",
        "outputId": "513f8e39-4e6f-4a5d-ef3b-6ce7f2430e0e"
      },
      "execution_count": null,
      "outputs": [
        {
          "output_type": "stream",
          "name": "stdout",
          "text": [
            "[600, 300, 100, 30, -6]\n"
          ]
        }
      ]
    },
    {
      "cell_type": "code",
      "source": [
        "l.index(300)\n"
      ],
      "metadata": {
        "colab": {
          "base_uri": "https://localhost:8080/"
        },
        "id": "B_AiRc_riaBd",
        "outputId": "7e094705-15d5-48dd-9f9a-b26514059788"
      },
      "execution_count": null,
      "outputs": [
        {
          "output_type": "execute_result",
          "data": {
            "text/plain": [
              "1"
            ]
          },
          "metadata": {},
          "execution_count": 12
        }
      ]
    },
    {
      "cell_type": "code",
      "source": [
        "l = [1,2,3]\n",
        "l1 = [1,2,3]\n",
        "print(l)\n",
        "print(l1)"
      ],
      "metadata": {
        "colab": {
          "base_uri": "https://localhost:8080/"
        },
        "id": "JB-lRl5Djeij",
        "outputId": "6904fcad-39d9-4a60-c20d-38a582d91de8"
      },
      "execution_count": null,
      "outputs": [
        {
          "output_type": "stream",
          "name": "stdout",
          "text": [
            "[1, 2, 3]\n",
            "[1, 2, 3]\n"
          ]
        }
      ]
    },
    {
      "cell_type": "code",
      "source": [
        "print(id(l))\n",
        "print(id(l1))"
      ],
      "metadata": {
        "colab": {
          "base_uri": "https://localhost:8080/"
        },
        "id": "AAV49JT0kRCj",
        "outputId": "bcdd17b7-65c7-4ce0-9c50-0b92554fb92d"
      },
      "execution_count": null,
      "outputs": [
        {
          "output_type": "stream",
          "name": "stdout",
          "text": [
            "136624032550528\n",
            "136624032553408\n"
          ]
        }
      ]
    },
    {
      "cell_type": "markdown",
      "source": [
        "tuple"
      ],
      "metadata": {
        "id": "KejwjFT4nRA2"
      }
    },
    {
      "cell_type": "code",
      "source": [
        "t2=(1,2,3,4)\n",
        "print(t2)\n",
        "print(type(t2))"
      ],
      "metadata": {
        "colab": {
          "base_uri": "https://localhost:8080/"
        },
        "id": "1a5_XFl0nS36",
        "outputId": "89df25ab-c99c-4b04-e3a2-4e994f37e882"
      },
      "execution_count": null,
      "outputs": [
        {
          "output_type": "stream",
          "name": "stdout",
          "text": [
            "(1, 2, 3, 4)\n",
            "<class 'tuple'>\n"
          ]
        }
      ]
    },
    {
      "cell_type": "code",
      "source": [
        "t2=1,2,3,\n",
        "print(t2)\n",
        "print(type(t2))"
      ],
      "metadata": {
        "colab": {
          "base_uri": "https://localhost:8080/"
        },
        "id": "gITVaOS3tOaH",
        "outputId": "dcde3d6c-8bee-488c-fb10-e62ca7613fb7"
      },
      "execution_count": null,
      "outputs": [
        {
          "output_type": "stream",
          "name": "stdout",
          "text": [
            "(1, 2, 3)\n",
            "<class 'tuple'>\n"
          ]
        }
      ]
    },
    {
      "cell_type": "markdown",
      "source": [
        "set"
      ],
      "metadata": {
        "id": "-f2RbIohtG8T"
      }
    },
    {
      "cell_type": "code",
      "source": [],
      "metadata": {
        "id": "ep6o4WKJtDzh"
      },
      "execution_count": null,
      "outputs": []
    },
    {
      "cell_type": "code",
      "source": [
        "s = {1,2,3}\n",
        "print(s)\n",
        "print(type(s))"
      ],
      "metadata": {
        "colab": {
          "base_uri": "https://localhost:8080/"
        },
        "id": "8Vj6JgS6uhgW",
        "outputId": "b358c4c5-34f9-4622-8f27-d36fb5957b7d"
      },
      "execution_count": null,
      "outputs": [
        {
          "output_type": "stream",
          "name": "stdout",
          "text": [
            "{1, 2, 3}\n",
            "<class 'set'>\n"
          ]
        }
      ]
    },
    {
      "cell_type": "code",
      "source": [
        "s = {1,2,3,\"python\",\"xyz\"}\n",
        "print(s)\n",
        "print(type(s))"
      ],
      "metadata": {
        "colab": {
          "base_uri": "https://localhost:8080/"
        },
        "id": "LyzqWgC9upZ8",
        "outputId": "906c04e4-3dbf-46e0-e6ca-b3cca1da6c13"
      },
      "execution_count": null,
      "outputs": [
        {
          "output_type": "stream",
          "name": "stdout",
          "text": [
            "{1, 2, 3, 'xyz', 'python'}\n",
            "<class 'set'>\n"
          ]
        }
      ]
    },
    {
      "cell_type": "code",
      "source": [
        "s = {1,2,3,3,2,7}\n",
        "print(s)\n",
        "print(type(s))\n",
        "len(s)"
      ],
      "metadata": {
        "colab": {
          "base_uri": "https://localhost:8080/"
        },
        "id": "G7UkqugwtIqT",
        "outputId": "b91c4047-a8f8-4477-8765-61fd2a7701f5"
      },
      "execution_count": null,
      "outputs": [
        {
          "output_type": "stream",
          "name": "stdout",
          "text": [
            "{1, 2, 3, 7}\n",
            "<class 'set'>\n"
          ]
        },
        {
          "output_type": "execute_result",
          "data": {
            "text/plain": [
              "4"
            ]
          },
          "metadata": {},
          "execution_count": 28
        }
      ]
    },
    {
      "cell_type": "code",
      "source": [
        "s[;;-1]"
      ],
      "metadata": {
        "colab": {
          "base_uri": "https://localhost:8080/",
          "height": 106
        },
        "id": "XHSSysT1xkcx",
        "outputId": "d4f9d63f-17f9-48af-a572-e98fff575993"
      },
      "execution_count": null,
      "outputs": [
        {
          "output_type": "error",
          "ename": "SyntaxError",
          "evalue": "invalid syntax (<ipython-input-30-cc4a7434ef55>, line 1)",
          "traceback": [
            "\u001b[0;36m  File \u001b[0;32m\"<ipython-input-30-cc4a7434ef55>\"\u001b[0;36m, line \u001b[0;32m1\u001b[0m\n\u001b[0;31m    s[;;-1]\u001b[0m\n\u001b[0m      ^\u001b[0m\n\u001b[0;31mSyntaxError\u001b[0m\u001b[0;31m:\u001b[0m invalid syntax\n"
          ]
        }
      ]
    },
    {
      "cell_type": "code",
      "source": [
        "l =[1,2,3,4,3,\"python\"]\n",
        "l1=[2,3,5,7,9]\n",
        "print(l)\n",
        "print(type(l))\n",
        "print(l1)\n",
        "print(type(l1))"
      ],
      "metadata": {
        "colab": {
          "base_uri": "https://localhost:8080/"
        },
        "id": "jvcbJNTgyRTO",
        "outputId": "6b699a42-d7fe-4ba4-f173-273b982f5ed8"
      },
      "execution_count": null,
      "outputs": [
        {
          "output_type": "stream",
          "name": "stdout",
          "text": [
            "[1, 2, 3, 4, 3, 'python']\n",
            "<class 'list'>\n",
            "[2, 3, 5, 7, 9]\n",
            "<class 'list'>\n"
          ]
        }
      ]
    },
    {
      "cell_type": "code",
      "source": [
        "s1 = set(l)\n",
        "print(s1)\n",
        "print(type(s1))"
      ],
      "metadata": {
        "colab": {
          "base_uri": "https://localhost:8080/"
        },
        "id": "M_wWRGNtzMsI",
        "outputId": "521494c5-7002-4fcf-b3a1-218949d06563"
      },
      "execution_count": null,
      "outputs": [
        {
          "output_type": "stream",
          "name": "stdout",
          "text": [
            "{1, 2, 3, 4, 'python'}\n",
            "<class 'set'>\n"
          ]
        }
      ]
    },
    {
      "cell_type": "code",
      "source": [
        "s2 = set(l1)\n",
        "print(s2)\n",
        "print(type(s2))"
      ],
      "metadata": {
        "colab": {
          "base_uri": "https://localhost:8080/"
        },
        "id": "oQ2_mnMrzY-w",
        "outputId": "fe10b7b1-f28f-4f1a-d1e8-8c0e11302a0c"
      },
      "execution_count": null,
      "outputs": [
        {
          "output_type": "stream",
          "name": "stdout",
          "text": [
            "{2, 3, 5, 7, 9}\n",
            "<class 'set'>\n"
          ]
        }
      ]
    },
    {
      "cell_type": "code",
      "source": [
        "l5 = s1.union(s2)\n",
        "print(list (l5))"
      ],
      "metadata": {
        "colab": {
          "base_uri": "https://localhost:8080/"
        },
        "id": "ceto-fq0zf2b",
        "outputId": "e819fe67-1c92-438a-fafa-0f1ba57ebc3a"
      },
      "execution_count": null,
      "outputs": [
        {
          "output_type": "stream",
          "name": "stdout",
          "text": [
            "[1, 2, 3, 4, 5, 7, 9, 'python']\n"
          ]
        }
      ]
    },
    {
      "cell_type": "code",
      "source": [],
      "metadata": {
        "id": "CK5WLaS50Pqd"
      },
      "execution_count": null,
      "outputs": []
    },
    {
      "cell_type": "code",
      "source": [
        "s1.union(s2)\n",
        "print(s1)"
      ],
      "metadata": {
        "colab": {
          "base_uri": "https://localhost:8080/"
        },
        "id": "DXVl81jAzvuL",
        "outputId": "75e1b4ed-381f-4adb-c73b-1cc6da1dba05"
      },
      "execution_count": null,
      "outputs": [
        {
          "output_type": "stream",
          "name": "stdout",
          "text": [
            "{1, 2, 3, 4}\n"
          ]
        }
      ]
    },
    {
      "cell_type": "code",
      "source": [
        "s1.symmetric_difference(s2)"
      ],
      "metadata": {
        "colab": {
          "base_uri": "https://localhost:8080/"
        },
        "id": "8b_BNPPM0WLu",
        "outputId": "e2b2d621-218e-4342-f039-dd2753e725c3"
      },
      "execution_count": null,
      "outputs": [
        {
          "output_type": "execute_result",
          "data": {
            "text/plain": [
              "{1, 4, 5, 7, 9}"
            ]
          },
          "metadata": {},
          "execution_count": 38
        }
      ]
    },
    {
      "cell_type": "code",
      "source": [
        "s1.difference(s2)"
      ],
      "metadata": {
        "colab": {
          "base_uri": "https://localhost:8080/"
        },
        "id": "VLnAcjSq0bkE",
        "outputId": "ca42cb67-6c0f-4655-c8fc-ed1beb53d2b4"
      },
      "execution_count": null,
      "outputs": [
        {
          "output_type": "execute_result",
          "data": {
            "text/plain": [
              "{1, 4}"
            ]
          },
          "metadata": {},
          "execution_count": 39
        }
      ]
    },
    {
      "cell_type": "code",
      "source": [
        "print(s1)\n",
        "s1.pop()"
      ],
      "metadata": {
        "colab": {
          "base_uri": "https://localhost:8080/"
        },
        "id": "ap_pYJu10fpx",
        "outputId": "dff64b63-c744-4e79-8b4f-66eef9786cdb"
      },
      "execution_count": null,
      "outputs": [
        {
          "output_type": "stream",
          "name": "stdout",
          "text": [
            "{1, 2, 3, 4, 'python'}\n"
          ]
        },
        {
          "output_type": "execute_result",
          "data": {
            "text/plain": [
              "1"
            ]
          },
          "metadata": {},
          "execution_count": 44
        }
      ]
    },
    {
      "cell_type": "code",
      "source": [
        "s2 = {1,2,3,4,\"python\",\"java\",7,3}\n",
        "print(s2)"
      ],
      "metadata": {
        "colab": {
          "base_uri": "https://localhost:8080/"
        },
        "id": "YABZztbI2KdD",
        "outputId": "2536b764-bd54-4f23-e3b9-cf1340f212e9"
      },
      "execution_count": null,
      "outputs": [
        {
          "output_type": "stream",
          "name": "stdout",
          "text": [
            "{1, 2, 3, 4, 7, 'java', 'python'}\n"
          ]
        }
      ]
    },
    {
      "cell_type": "code",
      "source": [
        "s2.pop()"
      ],
      "metadata": {
        "colab": {
          "base_uri": "https://localhost:8080/"
        },
        "id": "bzLHN3A_2YXO",
        "outputId": "d391eb2e-8722-4a32-c36d-935427d59f3b"
      },
      "execution_count": null,
      "outputs": [
        {
          "output_type": "execute_result",
          "data": {
            "text/plain": [
              "1"
            ]
          },
          "metadata": {},
          "execution_count": 47
        }
      ]
    },
    {
      "cell_type": "code",
      "source": [
        "s2.remove('python')\n"
      ],
      "metadata": {
        "colab": {
          "base_uri": "https://localhost:8080/",
          "height": 141
        },
        "id": "wO-8g8PS2hAj",
        "outputId": "a76c83ec-b2fc-4b17-e53d-ae51d9b37166"
      },
      "execution_count": null,
      "outputs": [
        {
          "output_type": "error",
          "ename": "KeyError",
          "evalue": "'python'",
          "traceback": [
            "\u001b[0;31m---------------------------------------------------------------------------\u001b[0m",
            "\u001b[0;31mKeyError\u001b[0m                                  Traceback (most recent call last)",
            "\u001b[0;32m<ipython-input-54-458afadc68ca>\u001b[0m in \u001b[0;36m<cell line: 1>\u001b[0;34m()\u001b[0m\n\u001b[0;32m----> 1\u001b[0;31m \u001b[0ms2\u001b[0m\u001b[0;34m.\u001b[0m\u001b[0mremove\u001b[0m\u001b[0;34m(\u001b[0m\u001b[0;34m'python'\u001b[0m\u001b[0;34m)\u001b[0m\u001b[0;34m\u001b[0m\u001b[0;34m\u001b[0m\u001b[0m\n\u001b[0m",
            "\u001b[0;31mKeyError\u001b[0m: 'python'"
          ]
        }
      ]
    },
    {
      "cell_type": "code",
      "source": [
        "print(s2)"
      ],
      "metadata": {
        "colab": {
          "base_uri": "https://localhost:8080/"
        },
        "id": "AGvqGEb23NpP",
        "outputId": "3acb43f7-632d-4a44-db4f-986cf1a2ed47"
      },
      "execution_count": null,
      "outputs": [
        {
          "output_type": "stream",
          "name": "stdout",
          "text": [
            "{2, 3, 4, 7}\n"
          ]
        }
      ]
    },
    {
      "cell_type": "code",
      "source": [
        "s2.clear()"
      ],
      "metadata": {
        "id": "lyOHclHL3TEu"
      },
      "execution_count": null,
      "outputs": []
    },
    {
      "cell_type": "code",
      "source": [
        "print(s2)"
      ],
      "metadata": {
        "colab": {
          "base_uri": "https://localhost:8080/"
        },
        "id": "CXiMqyjH3XIV",
        "outputId": "7515836d-6762-4869-d476-8920c752fdd1"
      },
      "execution_count": null,
      "outputs": [
        {
          "output_type": "stream",
          "name": "stdout",
          "text": [
            "set()\n"
          ]
        }
      ]
    },
    {
      "cell_type": "markdown",
      "source": [
        "conversion set to list"
      ],
      "metadata": {
        "id": "sih-ma-d5F6S"
      }
    },
    {
      "cell_type": "code",
      "source": [
        "s={1,2,3,4,\"java\",\"python\"}\n",
        "b=list(s)\n",
        "print(b)\n",
        "print(type(b))"
      ],
      "metadata": {
        "colab": {
          "base_uri": "https://localhost:8080/"
        },
        "id": "9hoP37nS4zBK",
        "outputId": "fc7fc588-a498-4556-c31b-e419652dcc3c"
      },
      "execution_count": null,
      "outputs": [
        {
          "output_type": "stream",
          "name": "stdout",
          "text": [
            "[1, 2, 3, 4, 'java', 'python']\n",
            "<class 'list'>\n"
          ]
        }
      ]
    },
    {
      "cell_type": "code",
      "source": [],
      "metadata": {
        "id": "SKENFLjh5J17"
      },
      "execution_count": null,
      "outputs": []
    },
    {
      "cell_type": "markdown",
      "source": [
        "Dictionary"
      ],
      "metadata": {
        "id": "z8uilGEwpOna"
      }
    },
    {
      "cell_type": "code",
      "source": [
        "d1 = {'a' : \"apple\", 'b' : \"ball\",'c':\"cat\", 'd' :\"dog\" }\n",
        "print(d1)\n",
        "print(type(d1))"
      ],
      "metadata": {
        "colab": {
          "base_uri": "https://localhost:8080/"
        },
        "id": "-iSWWi4LpTDf",
        "outputId": "b0a7d61f-5278-4aec-cb8c-aea688544781"
      },
      "execution_count": null,
      "outputs": [
        {
          "output_type": "stream",
          "name": "stdout",
          "text": [
            "{'a': 'apple', 'b': 'ball', 'c': 'cat', 'd': 'dog'}\n",
            "<class 'dict'>\n"
          ]
        }
      ]
    },
    {
      "cell_type": "code",
      "source": [
        "d2 = {1 : \"apple\", 2 : \"ball\",3:\"cat\", 4 :\"dog\" }\n",
        "print(d2)\n",
        "print(type(d2))"
      ],
      "metadata": {
        "colab": {
          "base_uri": "https://localhost:8080/"
        },
        "id": "tBhRV3EYrFEE",
        "outputId": "2b48bf56-d8e6-4870-dbf4-ce17056cf72b"
      },
      "execution_count": null,
      "outputs": [
        {
          "output_type": "stream",
          "name": "stdout",
          "text": [
            "{1: 'apple', 2: 'ball', 3: 'cat', 4: 'dog'}\n",
            "<class 'dict'>\n"
          ]
        }
      ]
    },
    {
      "cell_type": "code",
      "source": [
        "d3 = {1 : \"apple\", 2 : \"ball\",3:\"cat\", 4 :\"dog\", 1: \"python\" }\n",
        "print(d3)\n",
        "print(type(d3))"
      ],
      "metadata": {
        "colab": {
          "base_uri": "https://localhost:8080/"
        },
        "id": "mrbZyxp7rLpx",
        "outputId": "a48b119e-443a-4027-e18a-dca51693fbc9"
      },
      "execution_count": null,
      "outputs": [
        {
          "output_type": "stream",
          "name": "stdout",
          "text": [
            "{1: 'python', 2: 'ball', 3: 'cat', 4: 'dog'}\n",
            "<class 'dict'>\n"
          ]
        }
      ]
    },
    {
      "cell_type": "code",
      "source": [
        "d4 = {1 : \"apple\", 2 : \"ball\",3:\"cat\", 4 :\"dog\", 4:100 }\n",
        "print(d4)\n",
        "print(type(d4))"
      ],
      "metadata": {
        "colab": {
          "base_uri": "https://localhost:8080/"
        },
        "id": "1Mg0uzI2sGFu",
        "outputId": "507151b7-0d2a-4ce6-c675-f83d81be98d7"
      },
      "execution_count": null,
      "outputs": [
        {
          "output_type": "stream",
          "name": "stdout",
          "text": [
            "{1: 'apple', 2: 'ball', 3: 'cat', 4: 100}\n",
            "<class 'dict'>\n"
          ]
        }
      ]
    },
    {
      "cell_type": "code",
      "source": [
        "d5 = {'m1' : [10,20,300], 'm2' : [75.20, 56.88,33.33],'subject':('python','java'), 'd' :\"dog\", 4:100 }\n",
        "print(d5)\n",
        "print(type(d5))"
      ],
      "metadata": {
        "colab": {
          "base_uri": "https://localhost:8080/"
        },
        "id": "_zSyNInOtL11",
        "outputId": "6da13c0c-caee-42b2-847b-44be4f150129"
      },
      "execution_count": null,
      "outputs": [
        {
          "output_type": "stream",
          "name": "stdout",
          "text": [
            "{'m1': [10, 20, 300], 'm2': [75.2, 56.88, 33.33], 'subject': ('python', 'java'), 'd': 'dog', 4: 100}\n",
            "<class 'dict'>\n"
          ]
        }
      ]
    },
    {
      "cell_type": "code",
      "source": [
        "d5[0]"
      ],
      "metadata": {
        "colab": {
          "base_uri": "https://localhost:8080/",
          "height": 141
        },
        "id": "_uw2kWZuuqtx",
        "outputId": "650a5044-a51b-4dec-a922-eecb19ba2677"
      },
      "execution_count": null,
      "outputs": [
        {
          "output_type": "error",
          "ename": "KeyError",
          "evalue": "0",
          "traceback": [
            "\u001b[0;31m---------------------------------------------------------------------------\u001b[0m",
            "\u001b[0;31mKeyError\u001b[0m                                  Traceback (most recent call last)",
            "\u001b[0;32m<ipython-input-18-2e3df1a1a9aa>\u001b[0m in \u001b[0;36m<cell line: 1>\u001b[0;34m()\u001b[0m\n\u001b[0;32m----> 1\u001b[0;31m \u001b[0md5\u001b[0m\u001b[0;34m[\u001b[0m\u001b[0;36m0\u001b[0m\u001b[0;34m]\u001b[0m\u001b[0;34m\u001b[0m\u001b[0;34m\u001b[0m\u001b[0m\n\u001b[0m",
            "\u001b[0;31mKeyError\u001b[0m: 0"
          ]
        }
      ]
    },
    {
      "cell_type": "code",
      "source": [
        "d5['name'] = \"jay\"\n",
        "d5"
      ],
      "metadata": {
        "colab": {
          "base_uri": "https://localhost:8080/"
        },
        "id": "MckJndHRuzIV",
        "outputId": "3514fb44-edc5-4fc8-8224-9308789920f1"
      },
      "execution_count": null,
      "outputs": [
        {
          "output_type": "execute_result",
          "data": {
            "text/plain": [
              "{'m1': [10, 20, 300],\n",
              " 'm2': [75.2, 56.88, 33.33],\n",
              " 'subject': ('python', 'java'),\n",
              " 'd': 'dog',\n",
              " 4: 100,\n",
              " 'name': 'jay'}"
            ]
          },
          "metadata": {},
          "execution_count": 19
        }
      ]
    },
    {
      "cell_type": "code",
      "source": [
        "d5.update({'d':'duck'})\n",
        "d5"
      ],
      "metadata": {
        "colab": {
          "base_uri": "https://localhost:8080/"
        },
        "id": "-FQUKfNhvhPh",
        "outputId": "b9a5ae85-6e97-431c-8f39-a11445a4d1ca"
      },
      "execution_count": null,
      "outputs": [
        {
          "output_type": "execute_result",
          "data": {
            "text/plain": [
              "{'m1': [10, 20, 300],\n",
              " 'm2': [75.2, 56.88, 33.33],\n",
              " 'subject': ('python', 'java'),\n",
              " 'd': 'duck',\n",
              " 4: 100,\n",
              " 'name': 'jay'}"
            ]
          },
          "metadata": {},
          "execution_count": 21
        }
      ]
    },
    {
      "cell_type": "code",
      "source": [
        "d5.keys()"
      ],
      "metadata": {
        "colab": {
          "base_uri": "https://localhost:8080/"
        },
        "id": "UG2hxRgxv7RR",
        "outputId": "285a4d91-c026-41bb-c280-b81765ab8d6e"
      },
      "execution_count": null,
      "outputs": [
        {
          "output_type": "execute_result",
          "data": {
            "text/plain": [
              "dict_keys(['m1', 'm2', 'subject', 'd', 4, 'name'])"
            ]
          },
          "metadata": {},
          "execution_count": 22
        }
      ]
    },
    {
      "cell_type": "code",
      "source": [
        "d5.values()"
      ],
      "metadata": {
        "colab": {
          "base_uri": "https://localhost:8080/"
        },
        "id": "Hq_NauedwE6V",
        "outputId": "fad0474c-caba-4d28-f194-3f544e29f98e"
      },
      "execution_count": null,
      "outputs": [
        {
          "output_type": "execute_result",
          "data": {
            "text/plain": [
              "dict_values([[10, 20, 300], [75.2, 56.88, 33.33], ('python', 'java'), 'duck', 100, 'jay'])"
            ]
          },
          "metadata": {},
          "execution_count": 23
        }
      ]
    },
    {
      "cell_type": "code",
      "source": [
        "a = d5.items()\n",
        "a = list(a)\n",
        "print(a)\n",
        "print(type(a))"
      ],
      "metadata": {
        "colab": {
          "base_uri": "https://localhost:8080/"
        },
        "id": "PuyesUdtwMb8",
        "outputId": "94052df4-a449-42b3-bf5b-93b58aba1e7a"
      },
      "execution_count": null,
      "outputs": [
        {
          "output_type": "stream",
          "name": "stdout",
          "text": [
            "[('m1', [10, 20, 300]), ('m2', [75.2, 56.88, 33.33]), ('subject', ('python', 'java')), ('d', 'duck'), (4, 100), ('name', 'jay')]\n",
            "<class 'list'>\n"
          ]
        }
      ]
    },
    {
      "cell_type": "code",
      "source": [
        "d5.pop('d')"
      ],
      "metadata": {
        "colab": {
          "base_uri": "https://localhost:8080/",
          "height": 36
        },
        "id": "D6XF3HlVxToC",
        "outputId": "450f131d-a15f-4329-f687-b0a4fcd3651e"
      },
      "execution_count": null,
      "outputs": [
        {
          "output_type": "execute_result",
          "data": {
            "text/plain": [
              "'duck'"
            ],
            "application/vnd.google.colaboratory.intrinsic+json": {
              "type": "string"
            }
          },
          "metadata": {},
          "execution_count": 29
        }
      ]
    },
    {
      "cell_type": "code",
      "source": [
        "d5"
      ],
      "metadata": {
        "colab": {
          "base_uri": "https://localhost:8080/"
        },
        "id": "01Tj1PFAxoP7",
        "outputId": "240e7c27-2e9a-4e47-98fd-4b021558dbd5"
      },
      "execution_count": null,
      "outputs": [
        {
          "output_type": "execute_result",
          "data": {
            "text/plain": [
              "{'m1': [10, 20, 300],\n",
              " 'm2': [75.2, 56.88, 33.33],\n",
              " 'subject': ('python', 'java'),\n",
              " 4: 100,\n",
              " 'name': 'jay'}"
            ]
          },
          "metadata": {},
          "execution_count": 30
        }
      ]
    },
    {
      "cell_type": "code",
      "source": [
        "d5.get('m2')\n"
      ],
      "metadata": {
        "colab": {
          "base_uri": "https://localhost:8080/"
        },
        "id": "x4CkiW-Wxw0P",
        "outputId": "4db3d90a-dc15-497b-daac-0153185a11e5"
      },
      "execution_count": null,
      "outputs": [
        {
          "output_type": "execute_result",
          "data": {
            "text/plain": [
              "[75.2, 56.88, 33.33]"
            ]
          },
          "metadata": {},
          "execution_count": 32
        }
      ]
    },
    {
      "cell_type": "code",
      "source": [
        "s = {}\n",
        "print(type(s))"
      ],
      "metadata": {
        "colab": {
          "base_uri": "https://localhost:8080/"
        },
        "id": "6dIm0Mw9yI1f",
        "outputId": "1cbf3caf-4452-4e02-d65e-6d11c5b7b18e"
      },
      "execution_count": null,
      "outputs": [
        {
          "output_type": "stream",
          "name": "stdout",
          "text": [
            "<class 'dict'>\n"
          ]
        }
      ]
    },
    {
      "cell_type": "code",
      "source": [
        "d1 = {1:100, 2: 200}\n",
        "d2 = {3:300, 4:400 }\n",
        "print(d1,d2)"
      ],
      "metadata": {
        "colab": {
          "base_uri": "https://localhost:8080/"
        },
        "id": "yzRPYh62zO9Y",
        "outputId": "bad85afe-4732-44d6-fecb-833ebbb464e5"
      },
      "execution_count": null,
      "outputs": [
        {
          "output_type": "stream",
          "name": "stdout",
          "text": [
            "{1: 100, 2: 200} {3: 300, 4: 400}\n"
          ]
        }
      ]
    },
    {
      "cell_type": "code",
      "source": [
        "d1.update(d2)\n",
        "print(d1)"
      ],
      "metadata": {
        "colab": {
          "base_uri": "https://localhost:8080/"
        },
        "id": "Dt6FpR1H0DaA",
        "outputId": "136f73c5-c058-4b8f-a60f-8d478bce09c2"
      },
      "execution_count": null,
      "outputs": [
        {
          "output_type": "stream",
          "name": "stdout",
          "text": [
            "{1: 100, 2: 200, 3: 300, 4: 400}\n"
          ]
        }
      ]
    },
    {
      "cell_type": "markdown",
      "source": [],
      "metadata": {
        "id": "_62wca9q5Dfg"
      }
    },
    {
      "cell_type": "markdown",
      "source": [
        "Operators\n",
        "\n",
        "1)Arithmetic operators\n",
        "2)Assignment operators\n",
        "3)Comparison operators\n",
        "4)Logical operators\n",
        "5)Identity operators\n",
        "6)Membership operators\n",
        "7)Bitwise operators\n",
        "has context menu"
      ],
      "metadata": {
        "id": "PYFWDtgV25CT"
      }
    },
    {
      "cell_type": "code",
      "source": [
        "x = 15\n",
        "y =4\n",
        "print(x)\n",
        "print(y)"
      ],
      "metadata": {
        "colab": {
          "base_uri": "https://localhost:8080/"
        },
        "id": "wHxml45_251a",
        "outputId": "cb298be1-0538-42ee-bad8-0629cf289853"
      },
      "execution_count": null,
      "outputs": [
        {
          "output_type": "stream",
          "name": "stdout",
          "text": [
            "15\n",
            "4\n"
          ]
        }
      ]
    },
    {
      "cell_type": "code",
      "source": [
        "print(x+y)"
      ],
      "metadata": {
        "colab": {
          "base_uri": "https://localhost:8080/"
        },
        "id": "EGylI50b22tL",
        "outputId": "28922f7a-2ed7-49a7-e221-7d46592c1944"
      },
      "execution_count": null,
      "outputs": [
        {
          "output_type": "stream",
          "name": "stdout",
          "text": [
            "19\n"
          ]
        }
      ]
    },
    {
      "cell_type": "code",
      "source": [
        "print(x-y)"
      ],
      "metadata": {
        "colab": {
          "base_uri": "https://localhost:8080/"
        },
        "id": "FYS5pkPA3K3U",
        "outputId": "375eed41-fc1e-4f83-ee66-06a034d29041"
      },
      "execution_count": null,
      "outputs": [
        {
          "output_type": "stream",
          "name": "stdout",
          "text": [
            "11\n"
          ]
        }
      ]
    },
    {
      "cell_type": "code",
      "source": [
        "print(x*y)"
      ],
      "metadata": {
        "colab": {
          "base_uri": "https://localhost:8080/"
        },
        "id": "Q2_YipOu3NaN",
        "outputId": "665448e3-ad9d-4888-a489-b652689335e6"
      },
      "execution_count": null,
      "outputs": [
        {
          "output_type": "stream",
          "name": "stdout",
          "text": [
            "60\n"
          ]
        }
      ]
    },
    {
      "cell_type": "code",
      "source": [
        "print(x/y)"
      ],
      "metadata": {
        "colab": {
          "base_uri": "https://localhost:8080/"
        },
        "id": "pM0hPjLv3PuO",
        "outputId": "8f6289ed-3ff7-47b0-80c4-c1dfd8cdf423"
      },
      "execution_count": null,
      "outputs": [
        {
          "output_type": "stream",
          "name": "stdout",
          "text": [
            "3.75\n"
          ]
        }
      ]
    },
    {
      "cell_type": "code",
      "source": [
        "print(x%y)"
      ],
      "metadata": {
        "colab": {
          "base_uri": "https://localhost:8080/"
        },
        "id": "ZWegpezG3aFX",
        "outputId": "ef3d8ca5-cf7d-40e2-9988-7f865dcea31c"
      },
      "execution_count": null,
      "outputs": [
        {
          "output_type": "stream",
          "name": "stdout",
          "text": [
            "3\n"
          ]
        }
      ]
    },
    {
      "cell_type": "code",
      "source": [
        "print(x** y)"
      ],
      "metadata": {
        "colab": {
          "base_uri": "https://localhost:8080/"
        },
        "id": "gexOXP0G3q50",
        "outputId": "04191bae-08a7-46aa-b74d-0ae5c9e9796a"
      },
      "execution_count": null,
      "outputs": [
        {
          "output_type": "stream",
          "name": "stdout",
          "text": [
            "50625\n"
          ]
        }
      ]
    },
    {
      "cell_type": "code",
      "source": [
        "print(x//y)"
      ],
      "metadata": {
        "colab": {
          "base_uri": "https://localhost:8080/"
        },
        "id": "PW0Z0jFh34N7",
        "outputId": "f7b5f5c2-da5a-47e1-83e6-c0be3644b076"
      },
      "execution_count": null,
      "outputs": [
        {
          "output_type": "stream",
          "name": "stdout",
          "text": [
            "3\n"
          ]
        }
      ]
    },
    {
      "cell_type": "code",
      "source": [
        "x = 10\n",
        "y = 12\n",
        "\n",
        "x>y"
      ],
      "metadata": {
        "colab": {
          "base_uri": "https://localhost:8080/"
        },
        "id": "mAL5cObU4TSZ",
        "outputId": "5c5eedf9-7277-4603-f8db-4065c4e6f1c1"
      },
      "execution_count": null,
      "outputs": [
        {
          "output_type": "execute_result",
          "data": {
            "text/plain": [
              "False"
            ]
          },
          "metadata": {},
          "execution_count": 50
        }
      ]
    },
    {
      "cell_type": "code",
      "source": [
        "x<y"
      ],
      "metadata": {
        "colab": {
          "base_uri": "https://localhost:8080/"
        },
        "id": "quIwFhix4tcd",
        "outputId": "ed2ee338-022a-4a88-97e5-144225e628c2"
      },
      "execution_count": null,
      "outputs": [
        {
          "output_type": "execute_result",
          "data": {
            "text/plain": [
              "True"
            ]
          },
          "metadata": {},
          "execution_count": 51
        }
      ]
    },
    {
      "cell_type": "code",
      "source": [
        "x==y"
      ],
      "metadata": {
        "colab": {
          "base_uri": "https://localhost:8080/"
        },
        "id": "GC0v7AII4xcH",
        "outputId": "4707398f-e411-4af1-e153-0cb7d47ed547"
      },
      "execution_count": null,
      "outputs": [
        {
          "output_type": "execute_result",
          "data": {
            "text/plain": [
              "False"
            ]
          },
          "metadata": {},
          "execution_count": 53
        }
      ]
    },
    {
      "cell_type": "code",
      "source": [
        "x!=y"
      ],
      "metadata": {
        "colab": {
          "base_uri": "https://localhost:8080/"
        },
        "id": "6gHcAuql4yfI",
        "outputId": "96bbad2d-4be1-4e13-ede5-8999f4951449"
      },
      "execution_count": null,
      "outputs": [
        {
          "output_type": "execute_result",
          "data": {
            "text/plain": [
              "True"
            ]
          },
          "metadata": {},
          "execution_count": 52
        }
      ]
    },
    {
      "cell_type": "code",
      "source": [
        "x<=y"
      ],
      "metadata": {
        "colab": {
          "base_uri": "https://localhost:8080/"
        },
        "id": "Pal86gCo44G5",
        "outputId": "96300bf4-e6cc-4909-9a96-14e0554c87e2"
      },
      "execution_count": null,
      "outputs": [
        {
          "output_type": "execute_result",
          "data": {
            "text/plain": [
              "True"
            ]
          },
          "metadata": {},
          "execution_count": 54
        }
      ]
    },
    {
      "cell_type": "code",
      "source": [
        "x>=y"
      ],
      "metadata": {
        "colab": {
          "base_uri": "https://localhost:8080/"
        },
        "id": "VFnT7-Dd462K",
        "outputId": "b0fb0cfc-4bd1-463b-ac54-92c10e04289e"
      },
      "execution_count": null,
      "outputs": [
        {
          "output_type": "execute_result",
          "data": {
            "text/plain": [
              "False"
            ]
          },
          "metadata": {},
          "execution_count": 55
        }
      ]
    },
    {
      "cell_type": "code",
      "source": [
        "x = True\n",
        "y = False\n",
        "print('x and y is',x and y)"
      ],
      "metadata": {
        "colab": {
          "base_uri": "https://localhost:8080/"
        },
        "id": "Hw8OZn3G5RT-",
        "outputId": "526448ef-f22b-436e-cdcf-10ecae1dbe14"
      },
      "execution_count": null,
      "outputs": [
        {
          "output_type": "stream",
          "name": "stdout",
          "text": [
            "x and y is False\n"
          ]
        }
      ]
    },
    {
      "cell_type": "code",
      "source": [
        "x = True\n",
        "y = False\n",
        "print('x or y is',x or y)"
      ],
      "metadata": {
        "colab": {
          "base_uri": "https://localhost:8080/"
        },
        "id": "UbrBQzfk58gM",
        "outputId": "50043e46-8998-4d0b-8ae6-f26faca1e18a"
      },
      "execution_count": null,
      "outputs": [
        {
          "output_type": "stream",
          "name": "stdout",
          "text": [
            "x or y is True\n"
          ]
        }
      ]
    },
    {
      "cell_type": "code",
      "source": [
        "x = True\n",
        "y = False\n",
        "print('x not y is',not x)"
      ],
      "metadata": {
        "colab": {
          "base_uri": "https://localhost:8080/"
        },
        "id": "_Mp_yp-i6HmX",
        "outputId": "4a58c659-77a5-4fe4-9164-03b9e33025c3"
      },
      "execution_count": null,
      "outputs": [
        {
          "output_type": "stream",
          "name": "stdout",
          "text": [
            "x not y is False\n"
          ]
        }
      ]
    },
    {
      "cell_type": "code",
      "source": [
        "x = 0\n",
        "y = 2\n",
        "print('x and y is',x or y)"
      ],
      "metadata": {
        "colab": {
          "base_uri": "https://localhost:8080/"
        },
        "id": "0ga-jDJo6hbk",
        "outputId": "cc153143-04f8-4234-ba18-61eee70c47b8"
      },
      "execution_count": null,
      "outputs": [
        {
          "output_type": "stream",
          "name": "stdout",
          "text": [
            "x and y is 2\n"
          ]
        }
      ]
    }
  ]
}